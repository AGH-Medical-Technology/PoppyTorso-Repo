{
 "cells": [
  {
   "cell_type": "code",
   "execution_count": 4,
   "id": "7579e828",
   "metadata": {},
   "outputs": [
    {
     "name": "stdout",
     "output_type": "stream",
     "text": [
      "Failed to grab frame.\n"
     ]
    },
    {
     "name": "stderr",
     "output_type": "stream",
     "text": [
      "[ WARN:0] VIDEOIO(V4L2:/dev/video1): can't open camera by index\n"
     ]
    }
   ],
   "source": [
    "import cv2\n",
    "import numpy as np\n",
    "\n",
    "# Function to detect hand gestures based on contours\n",
    "def detect_gesture(frame, hsv_frame):\n",
    "    # Define the range of skin color in HSV (you might need to adjust this)\n",
    "    lower_skin = np.array([0, 20, 70], dtype=np.uint8)\n",
    "    upper_skin = np.array([20, 150, 255], dtype=np.uint8)\n",
    "\n",
    "    # Create a mask based on the skin color\n",
    "    mask = cv2.inRange(hsv_frame, lower_skin, upper_skin)\n",
    "    \n",
    "    # Apply some morphological operations to remove noise\n",
    "    kernel = np.ones((5, 5), np.uint8)\n",
    "    mask = cv2.dilate(mask, kernel, iterations=3)\n",
    "    mask = cv2.erode(mask, kernel, iterations=2)\n",
    "\n",
    "    # Find contours of the hand in the mask\n",
    "    contours, hierarchy = cv2.findContours(cv2.RETR_TREE, cv2.CHAIN_APPROX_SIMPLE)\n",
    "\n",
    "    # If contours are found, process the largest one\n",
    "    if contours:\n",
    "        # Sort contours by area and get the largest one\n",
    "        contour = max(contours, key=cv2.contourArea)\n",
    "\n",
    "        # Get the convex hull of the contour to smooth out the shape\n",
    "        hull = cv2.convexHull(contour)\n",
    "\n",
    "        # Calculate the convexity defects of the hand\n",
    "        defects = cv2.convexityDefects(contour, cv2.convexHull(contour, returnPoints=False))\n",
    "\n",
    "        # Draw the contour and hull\n",
    "        cv2.drawContours(frame, [hull], -1, (0, 255, 0), 2)\n",
    "\n",
    "        # Count the number of fingers (simple gesture recognition)\n",
    "        finger_count = 0\n",
    "        if defects is not None:\n",
    "            for i in range(defects.shape[0]):\n",
    "                s, e, f, d = defects[i, 0]\n",
    "                start = tuple(contour[s][0])\n",
    "                end = tuple(contour[e][0])\n",
    "                far = tuple(contour[f][0])\n",
    "\n",
    "                # Draw the defects\n",
    "                cv2.line(frame, start, end, [0, 0, 255], 2)\n",
    "                cv2.circle(frame, far, 5, [0, 0, 255], -1)\n",
    "\n",
    "                # Count defects (fingers) based on angle\n",
    "                if d > 10000:\n",
    "                    finger_count += 1\n",
    "\n",
    "        # Display the number of fingers detected\n",
    "        cv2.putText(frame, f'Fingers: {finger_count + 1}', (50, 50), cv2.FONT_HERSHEY_SIMPLEX, 1, (255, 255, 255), 2)\n",
    "    \n",
    "    return frame\n",
    "\n",
    "# Function to display the live camera feed and apply hand gesture detection\n",
    "def main():\n",
    "    # Initialize the webcam\n",
    "    cap = cv2.VideoCapture(1)\n",
    "\n",
    "    while True:\n",
    "        # Capture frame-by-frame\n",
    "        ret, frame = cap.read()\n",
    "        if not ret:\n",
    "            print(\"Failed to grab frame.\")\n",
    "            break\n",
    "\n",
    "        # Convert the frame to HSV color space\n",
    "        hsv_frame = cv2.cvtColor(frame, cv2.COLOR_BGR2HSV)\n",
    "\n",
    "        # Detect hand gestures\n",
    "        frame = detect_gesture(frame, hsv_frame)\n",
    "\n",
    "        # Display the frame with gesture recognition\n",
    "        cv2.imshow('Hand Gesture Recognition', frame)\n",
    "\n",
    "        # Break the loop if 'q' is pressed\n",
    "        if cv2.waitKey(1) & 0xFF == ord('q'):\n",
    "            break\n",
    "\n",
    "    # Release the capture and close windows\n",
    "    cap.release()\n",
    "    cv2.destroyAllWindows()\n",
    "\n",
    "# Call the main function to start the program\n",
    "if __name__ == \"__main__\":\n",
    "    main()\n"
   ]
  },
  {
   "cell_type": "code",
   "execution_count": null,
   "id": "1b59a78d",
   "metadata": {},
   "outputs": [],
   "source": []
  }
 ],
 "metadata": {
  "kernelspec": {
   "display_name": "Python 3 (ipykernel)",
   "language": "python",
   "name": "python3"
  },
  "language_info": {
   "codemirror_mode": {
    "name": "ipython",
    "version": 3
   },
   "file_extension": ".py",
   "mimetype": "text/x-python",
   "name": "python",
   "nbconvert_exporter": "python",
   "pygments_lexer": "ipython3",
   "version": "3.7.3"
  }
 },
 "nbformat": 4,
 "nbformat_minor": 5
}
