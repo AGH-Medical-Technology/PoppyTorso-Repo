{
 "cells": [
  {
   "cell_type": "code",
   "execution_count": 1,
   "id": "9a50eed7",
   "metadata": {},
   "outputs": [
    {
     "name": "stderr",
     "output_type": "stream",
     "text": [
      "  File \"/home/poppy/pyenv/lib/python3.7/site-packages/pypot/creatures/abstractcreature.py\", line 120, in __new__\n",
      "    poppy_creature = from_json(config, sync, **extra)\n",
      "  File \"/home/poppy/pyenv/lib/python3.7/site-packages/pypot/robot/config.py\", line 304, in from_json\n",
      "    return from_config(config, sync=sync, strict=strict, use_dummy_io=use_dummy_io, **extra)\n",
      "  File \"/home/poppy/pyenv/lib/python3.7/site-packages/pypot/robot/config.py\", line 62, in from_config\n",
      "    dxl_io = dxl_io_from_confignode(config, c_params, attached_ids, strict)\n",
      "  File \"/home/poppy/pyenv/lib/python3.7/site-packages/pypot/robot/config.py\", line 167, in dxl_io_from_confignode\n",
      "    port = pypot.dynamixel.find_port(ids, strict)\n",
      "  File \"/home/poppy/pyenv/lib/python3.7/site-packages/pypot/dynamixel/__init__.py\", line 108, in find_port\n",
      "    raise IndexError('No suitable port found for ids {}. These ids are missing {} !'.format(ids, missing))\n"
     ]
    },
    {
     "ename": "OSError",
     "evalue": "Could not initialize robot: No suitable port found for ids [36, 37, 41, 42, 44, 51, 52, 54]. These ids are missing [36, 37, 41, 42, 44, 51, 52, 54] !",
     "output_type": "error",
     "traceback": [
      "\u001b[0;31m---------------------------------------------------------------------------\u001b[0m",
      "\u001b[0;31mOSError\u001b[0m                                   Traceback (most recent call last)",
      "\u001b[0;32m/tmp/ipykernel_1794/3526432982.py\u001b[0m in \u001b[0;36m<module>\u001b[0;34m\u001b[0m\n\u001b[1;32m      5\u001b[0m \u001b[0;32mfrom\u001b[0m \u001b[0mpypot\u001b[0m\u001b[0;34m.\u001b[0m\u001b[0mprimitive\u001b[0m\u001b[0;34m.\u001b[0m\u001b[0mmove\u001b[0m \u001b[0;32mimport\u001b[0m \u001b[0mMoveRecorder\u001b[0m\u001b[0;34m,\u001b[0m \u001b[0mMovePlayer\u001b[0m\u001b[0;34m,\u001b[0m \u001b[0mMove\u001b[0m\u001b[0;34m\u001b[0m\u001b[0;34m\u001b[0m\u001b[0m\n\u001b[1;32m      6\u001b[0m \u001b[0;34m\u001b[0m\u001b[0m\n\u001b[0;32m----> 7\u001b[0;31m \u001b[0mpoppy\u001b[0m \u001b[0;34m=\u001b[0m \u001b[0mPoppyTorso\u001b[0m\u001b[0;34m(\u001b[0m\u001b[0mcamera\u001b[0m\u001b[0;34m=\u001b[0m\u001b[0;34m'dummy'\u001b[0m\u001b[0;34m)\u001b[0m\u001b[0;34m\u001b[0m\u001b[0;34m\u001b[0m\u001b[0m\n\u001b[0m\u001b[1;32m      8\u001b[0m \u001b[0;34m\u001b[0m\u001b[0m\n\u001b[1;32m      9\u001b[0m \u001b[0;32mfor\u001b[0m \u001b[0mmotor\u001b[0m \u001b[0;32min\u001b[0m \u001b[0mpoppy\u001b[0m\u001b[0;34m.\u001b[0m\u001b[0mmotors\u001b[0m\u001b[0;34m:\u001b[0m\u001b[0;34m\u001b[0m\u001b[0;34m\u001b[0m\u001b[0m\n",
      "\u001b[0;32m~/pyenv/lib/python3.7/site-packages/pypot/creatures/abstractcreature.py\u001b[0m in \u001b[0;36m__new__\u001b[0;34m(cls, base_path, config, simulator, scene, host, port, id, shared_vrep_io, use_snap, snap_host, snap_port, snap_quiet, use_http, http_host, http_port, http_quiet, use_remote, remote_host, remote_port, use_ws, ws_host, ws_port, start_background_services, sync, **extra)\u001b[0m\n\u001b[1;32m    128\u001b[0m                 \u001b[0;32mimport\u001b[0m \u001b[0mtraceback\u001b[0m\u001b[0;34m\u001b[0m\u001b[0;34m\u001b[0m\u001b[0m\n\u001b[1;32m    129\u001b[0m                 \u001b[0mtraceback\u001b[0m\u001b[0;34m.\u001b[0m\u001b[0mprint_tb\u001b[0m\u001b[0;34m(\u001b[0m\u001b[0mtb\u001b[0m\u001b[0;34m)\u001b[0m\u001b[0;34m\u001b[0m\u001b[0;34m\u001b[0m\u001b[0m\n\u001b[0;32m--> 130\u001b[0;31m                 \u001b[0;32mraise\u001b[0m \u001b[0mOSError\u001b[0m\u001b[0;34m(\u001b[0m\u001b[0;34m'Could not initialize robot: {}'\u001b[0m\u001b[0;34m.\u001b[0m\u001b[0mformat\u001b[0m\u001b[0;34m(\u001b[0m\u001b[0mexc_inst\u001b[0m\u001b[0;34m)\u001b[0m\u001b[0;34m)\u001b[0m\u001b[0;34m\u001b[0m\u001b[0;34m\u001b[0m\u001b[0m\n\u001b[0m\u001b[1;32m    131\u001b[0m             \u001b[0mpoppy_creature\u001b[0m\u001b[0;34m.\u001b[0m\u001b[0msimulated\u001b[0m \u001b[0;34m=\u001b[0m \u001b[0;32mFalse\u001b[0m\u001b[0;34m\u001b[0m\u001b[0;34m\u001b[0m\u001b[0m\n\u001b[1;32m    132\u001b[0m \u001b[0;34m\u001b[0m\u001b[0m\n",
      "\u001b[0;31mOSError\u001b[0m: Could not initialize robot: No suitable port found for ids [36, 37, 41, 42, 44, 51, 52, 54]. These ids are missing [36, 37, 41, 42, 44, 51, 52, 54] !"
     ]
    }
   ],
   "source": [
    "from __future__ import division\n",
    "import time\n",
    "from pypot.creatures import PoppyTorso\n",
    "import pypot.primitive\n",
    "from pypot.primitive.move import MoveRecorder, MovePlayer, Move\n",
    "\n",
    "poppy = PoppyTorso(camera='dummy')\n",
    "\n",
    "for motor in poppy.motors:\n",
    "    motor.compliant = True\n",
    "    motor.goal_position = 0\n",
    "\n",
    "class LimitTorque(pypot.primitive.LoopPrimitive):\n",
    "    def __init__(self, robot, freq=20, max_error=10., torque_min=20., torque_max=95.):\n",
    "        pypot.primitive.LoopPrimitive.__init__(self, robot, freq)\n",
    "\n",
    "        self._max_error = max_error\n",
    "        self.torque_min = torque_min\n",
    "        self.torque_max = torque_max\n",
    "\n",
    "    def setup(self):\n",
    "        self.initial_torque_limit = []\n",
    "\n",
    "        # Using a dictionnary may be a better solution so we can easily retrieve the initial torque value.\n",
    "        for m in self.robot.motors:\n",
    "            self.initial_torque_limit.append(m.torque_limit)\n",
    "\n",
    "        self.active_motors = self.robot.motors\n",
    "\n",
    "    def update(self):\n",
    "        for m in self.active_motors:\n",
    "            self.adjust_torque(m)\n",
    "\n",
    "    def adjust_torque(self, motor):\n",
    "        target = motor.goal_position\n",
    "        pos = motor.present_position\n",
    "        dist = abs(target - pos)\n",
    "\n",
    "        if dist > self._max_error:\n",
    "            motor.torque_limit = self.torque_max\n",
    "        else:\n",
    "            motor.torque_limit = self.torque_min + dist / self._max_error * (self.torque_max - self.torque_min)\n",
    "\n",
    "    def teardown(self):\n",
    "        for m, i in enumerate(self.robot.motors):\n",
    "            m.torque_limit = self.initial_torque_limit[i]\n",
    "\n",
    "if __name__ == \"__main__\":\n",
    "    time.sleep(0.1)\n",
    "    poppy.l_shoulder_x.goto_position(-90, 1, wait=True)"
   ]
  },
  {
   "cell_type": "code",
   "execution_count": 2,
   "id": "bb9a3de3",
   "metadata": {},
   "outputs": [
    {
     "name": "stderr",
     "output_type": "stream",
     "text": [
      "  File \"/home/poppy/pyenv/lib/python3.7/site-packages/pypot/creatures/abstractcreature.py\", line 120, in __new__\n",
      "    poppy_creature = from_json(config, sync, **extra)\n",
      "  File \"/home/poppy/pyenv/lib/python3.7/site-packages/pypot/robot/config.py\", line 304, in from_json\n",
      "    return from_config(config, sync=sync, strict=strict, use_dummy_io=use_dummy_io, **extra)\n",
      "  File \"/home/poppy/pyenv/lib/python3.7/site-packages/pypot/robot/config.py\", line 62, in from_config\n",
      "    dxl_io = dxl_io_from_confignode(config, c_params, attached_ids, strict)\n",
      "  File \"/home/poppy/pyenv/lib/python3.7/site-packages/pypot/robot/config.py\", line 167, in dxl_io_from_confignode\n",
      "    port = pypot.dynamixel.find_port(ids, strict)\n",
      "  File \"/home/poppy/pyenv/lib/python3.7/site-packages/pypot/dynamixel/__init__.py\", line 108, in find_port\n",
      "    raise IndexError('No suitable port found for ids {}. These ids are missing {} !'.format(ids, missing))\n"
     ]
    },
    {
     "ename": "OSError",
     "evalue": "Could not initialize robot: No suitable port found for ids [36, 37, 41, 42, 44, 51, 52, 54]. These ids are missing [36, 37, 41, 42, 44, 51, 52, 54] !",
     "output_type": "error",
     "traceback": [
      "\u001b[0;31m---------------------------------------------------------------------------\u001b[0m",
      "\u001b[0;31mOSError\u001b[0m                                   Traceback (most recent call last)",
      "\u001b[0;32m/tmp/ipykernel_1794/1153089323.py\u001b[0m in \u001b[0;36m<module>\u001b[0;34m\u001b[0m\n\u001b[1;32m      5\u001b[0m \u001b[0;32mfrom\u001b[0m \u001b[0mpypot\u001b[0m\u001b[0;34m.\u001b[0m\u001b[0mprimitive\u001b[0m\u001b[0;34m.\u001b[0m\u001b[0mmove\u001b[0m \u001b[0;32mimport\u001b[0m \u001b[0mMoveRecorder\u001b[0m\u001b[0;34m,\u001b[0m \u001b[0mMovePlayer\u001b[0m\u001b[0;34m,\u001b[0m \u001b[0mMove\u001b[0m\u001b[0;34m\u001b[0m\u001b[0;34m\u001b[0m\u001b[0m\n\u001b[1;32m      6\u001b[0m \u001b[0;34m\u001b[0m\u001b[0m\n\u001b[0;32m----> 7\u001b[0;31m \u001b[0mpoppy\u001b[0m \u001b[0;34m=\u001b[0m \u001b[0mPoppyTorso\u001b[0m\u001b[0;34m(\u001b[0m\u001b[0mcamera\u001b[0m\u001b[0;34m=\u001b[0m\u001b[0;34m'dummy'\u001b[0m\u001b[0;34m)\u001b[0m\u001b[0;34m\u001b[0m\u001b[0;34m\u001b[0m\u001b[0m\n\u001b[0m",
      "\u001b[0;32m~/pyenv/lib/python3.7/site-packages/pypot/creatures/abstractcreature.py\u001b[0m in \u001b[0;36m__new__\u001b[0;34m(cls, base_path, config, simulator, scene, host, port, id, shared_vrep_io, use_snap, snap_host, snap_port, snap_quiet, use_http, http_host, http_port, http_quiet, use_remote, remote_host, remote_port, use_ws, ws_host, ws_port, start_background_services, sync, **extra)\u001b[0m\n\u001b[1;32m    128\u001b[0m                 \u001b[0;32mimport\u001b[0m \u001b[0mtraceback\u001b[0m\u001b[0;34m\u001b[0m\u001b[0;34m\u001b[0m\u001b[0m\n\u001b[1;32m    129\u001b[0m                 \u001b[0mtraceback\u001b[0m\u001b[0;34m.\u001b[0m\u001b[0mprint_tb\u001b[0m\u001b[0;34m(\u001b[0m\u001b[0mtb\u001b[0m\u001b[0;34m)\u001b[0m\u001b[0;34m\u001b[0m\u001b[0;34m\u001b[0m\u001b[0m\n\u001b[0;32m--> 130\u001b[0;31m                 \u001b[0;32mraise\u001b[0m \u001b[0mOSError\u001b[0m\u001b[0;34m(\u001b[0m\u001b[0;34m'Could not initialize robot: {}'\u001b[0m\u001b[0;34m.\u001b[0m\u001b[0mformat\u001b[0m\u001b[0;34m(\u001b[0m\u001b[0mexc_inst\u001b[0m\u001b[0;34m)\u001b[0m\u001b[0;34m)\u001b[0m\u001b[0;34m\u001b[0m\u001b[0;34m\u001b[0m\u001b[0m\n\u001b[0m\u001b[1;32m    131\u001b[0m             \u001b[0mpoppy_creature\u001b[0m\u001b[0;34m.\u001b[0m\u001b[0msimulated\u001b[0m \u001b[0;34m=\u001b[0m \u001b[0;32mFalse\u001b[0m\u001b[0;34m\u001b[0m\u001b[0;34m\u001b[0m\u001b[0m\n\u001b[1;32m    132\u001b[0m \u001b[0;34m\u001b[0m\u001b[0m\n",
      "\u001b[0;31mOSError\u001b[0m: Could not initialize robot: No suitable port found for ids [36, 37, 41, 42, 44, 51, 52, 54]. These ids are missing [36, 37, 41, 42, 44, 51, 52, 54] !"
     ]
    }
   ],
   "source": [
    "from __future__ import division\n",
    "import time\n",
    "from pypot.creatures import PoppyTorso\n",
    "import pypot.primitive\n",
    "from pypot.primitive.move import MoveRecorder, MovePlayer, Move\n",
    "\n",
    "poppy = PoppyTorso(camera='dummy')"
   ]
  },
  {
   "cell_type": "code",
   "execution_count": null,
   "id": "5210d420",
   "metadata": {},
   "outputs": [],
   "source": []
  }
 ],
 "metadata": {
  "kernelspec": {
   "display_name": "Python 3 (ipykernel)",
   "language": "python",
   "name": "python3"
  },
  "language_info": {
   "codemirror_mode": {
    "name": "ipython",
    "version": 3
   },
   "file_extension": ".py",
   "mimetype": "text/x-python",
   "name": "python",
   "nbconvert_exporter": "python",
   "pygments_lexer": "ipython3",
   "version": "3.7.3"
  }
 },
 "nbformat": 4,
 "nbformat_minor": 5
}
