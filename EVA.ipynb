{
 "cells": [
  {
   "cell_type": "code",
   "execution_count": 1,
   "id": "18c108e0",
   "metadata": {},
   "outputs": [
    {
     "name": "stdout",
     "output_type": "stream",
     "text": [
      "no display, using 0.0\n"
     ]
    }
   ],
   "source": [
    "import tkinter as tk\n",
    "import itertools\n",
    "import sys\n",
    "import os\n",
    "\n",
    "if os.environ.get('DISPLAY','') == '':\n",
    "    print('no display, using 0.0')\n",
    "    os.environ.__setitem__('DISPLAY',':0')\n",
    "    \n",
    "# Create the main window\n",
    "root = tk.Tk()\n",
    "root.title(\"EVE Gradient Eyes\")\n",
    "\n",
    "# Set up canvas size\n",
    "canvas_width = 800\n",
    "canvas_height = 600\n",
    "root.geometry(f\"{canvas_width}x{canvas_height}\")\n",
    "canvas = tk.Canvas(root, width=canvas_width, height=canvas_height, bg=\"black\")\n",
    "canvas.pack()\n",
    "\n",
    "# Eye parameters\n",
    "eye_radius = 100\n",
    "\n",
    "# Function to draw gradient eye\n",
    "def draw_gradient_eye(center_x, center_y, radius, color_start, color_end, layers=10):\n",
    "    r_start, g_start, b_start = color_start\n",
    "    r_end, g_end, b_end = color_end\n",
    "    for i in range(layers):\n",
    "        ratio = i / layers\n",
    "        r = int(r_start + (r_end - r_start) * ratio)\n",
    "        g = int(g_start + (g_end - g_start) * ratio)\n",
    "        b = int(b_start + (b_end - b_start) * ratio)\n",
    "        color = f'#{r:02x}{g:02x}{b:02x}'\n",
    "\n",
    "        current_radius = radius * (1 - i / (layers * 2))\n",
    "        canvas.create_oval(center_x - current_radius, center_y - current_radius,\n",
    "                           center_x + current_radius, center_y + current_radius,\n",
    "                           fill=color, outline=\"\", tags=\"eye\")\n",
    "\n",
    "# Function to dynamically position and draw the eyes\n",
    "def draw_eyes():\n",
    "    canvas.delete(\"eye\")  # Clear previous eyes\n",
    "    # Calculate eye positions based on canvas size\n",
    "    eye_left_x, eye_left_y = canvas_width * 0.3, canvas_height / 2.5\n",
    "    eye_right_x, eye_right_y = canvas_width * 0.7, canvas_height / 2.5\n",
    "\n",
    "    # Draw the left and right eyes with gradient effect\n",
    "    draw_gradient_eye(eye_left_x, eye_left_y, eye_radius, (30, 144, 255), (0, 0, 0), layers=50)\n",
    "    draw_gradient_eye(eye_right_x, eye_right_y, eye_radius, (30, 144, 255), (0, 0, 0), layers=50)\n",
    "\n",
    "# Animate the gradient glow\n",
    "def animate_glow():\n",
    "    pulse = itertools.cycle(range(-2, 3))  # Cycle through small radius changes\n",
    "\n",
    "    def pulse_eyes():\n",
    "        offset = next(pulse)\n",
    "        canvas.delete(\"eye\")  # Clear previous eyes\n",
    "        draw_eyes()  # Redraw eyes\n",
    "        draw_gradient_eye(canvas_width * 0.3, canvas_height / 2.5, eye_radius + offset, (30, 144, 255), (0, 0, 0), layers=20)\n",
    "        draw_gradient_eye(canvas_width * 0.7, canvas_height / 2.5, eye_radius + offset, (30, 144, 255), (0, 0, 0), layers=20)\n",
    "        root.after(100, pulse_eyes)\n",
    "\n",
    "    pulse_eyes()\n",
    "\n",
    "# Draw initial eyes and start the glow animation\n",
    "draw_eyes()\n",
    "animate_glow()\n",
    "\n",
    "root.mainloop()\n"
   ]
  },
  {
   "cell_type": "code",
   "execution_count": null,
   "id": "825e1378",
   "metadata": {},
   "outputs": [],
   "source": []
  },
  {
   "cell_type": "code",
   "execution_count": null,
   "id": "dc10be01",
   "metadata": {},
   "outputs": [],
   "source": []
  },
  {
   "cell_type": "code",
   "execution_count": null,
   "id": "e49caea2",
   "metadata": {},
   "outputs": [],
   "source": []
  }
 ],
 "metadata": {
  "kernelspec": {
   "display_name": "Python 3 (ipykernel)",
   "language": "python",
   "name": "python3"
  },
  "language_info": {
   "codemirror_mode": {
    "name": "ipython",
    "version": 3
   },
   "file_extension": ".py",
   "mimetype": "text/x-python",
   "name": "python",
   "nbconvert_exporter": "python",
   "pygments_lexer": "ipython3",
   "version": "3.7.3"
  }
 },
 "nbformat": 4,
 "nbformat_minor": 5
}
